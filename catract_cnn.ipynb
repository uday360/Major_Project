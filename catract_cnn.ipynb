{
 "cells": [
  {
   "cell_type": "markdown",
   "metadata": {},
   "source": [
    "# Import libs"
   ]
  },
  {
   "cell_type": "code",
   "execution_count": 1,
   "metadata": {},
   "outputs": [
    {
     "name": "stderr",
     "output_type": "stream",
     "text": [
      "Using TensorFlow backend.\n"
     ]
    }
   ],
   "source": [
    "from numpy import expand_dims\n",
    "import tensorflow as tf\n",
    "from tensorflow import keras\n",
    "from keras.preprocessing.image import load_img\n",
    "from keras.preprocessing.image import img_to_array\n",
    "from keras.preprocessing.image import ImageDataGenerator\n",
    "from matplotlib import pyplot\n",
    "import glob \n",
    "import cv2"
   ]
  },
  {
   "cell_type": "markdown",
   "metadata": {},
   "source": [
    "# load images from dataset"
   ]
  },
  {
   "cell_type": "code",
   "execution_count": 2,
   "metadata": {},
   "outputs": [
    {
     "name": "stdout",
     "output_type": "stream",
     "text": [
      "300\n"
     ]
    }
   ],
   "source": [
    "normal_images = []\n",
    "files = glob.glob (\"/home/dashan/Desktop/Major_project/retina_dataset/dataset/1_normal/*.*\")\n",
    "for myFile in files:\n",
    "#     print(myFile)\n",
    "    image = cv2.imread (myFile)\n",
    "    normal_images.append (image)\n",
    "print(len(normal_images))"
   ]
  },
  {
   "cell_type": "code",
   "execution_count": 3,
   "metadata": {},
   "outputs": [
    {
     "name": "stdout",
     "output_type": "stream",
     "text": [
      "100\n"
     ]
    }
   ],
   "source": [
    "cataract_images=[]\n",
    "files=glob.glob(\"/home/dashan/Desktop/Major_project/retina_dataset/dataset/2_cataract/*.*\")\n",
    "for myFile in files:\n",
    "    image=cv2.imread(myFile)\n",
    "    cataract_images.append(image)\n",
    "print(len(cataract_images))"
   ]
  },
  {
   "cell_type": "code",
   "execution_count": 4,
   "metadata": {},
   "outputs": [
    {
     "name": "stdout",
     "output_type": "stream",
     "text": [
      "101\n"
     ]
    }
   ],
   "source": [
    "glaucoma_images=[]\n",
    "files=glob.glob(\"/home/dashan/Desktop/Major_project/retina_dataset/dataset/2_glaucoma/*.*\")\n",
    "for myFile in files:\n",
    "    image=cv2.imread(myFile)\n",
    "    glaucoma_images.append(image)\n",
    "print(len(glaucoma_images))"
   ]
  },
  {
   "cell_type": "code",
   "execution_count": 5,
   "metadata": {},
   "outputs": [
    {
     "name": "stdout",
     "output_type": "stream",
     "text": [
      "100\n"
     ]
    }
   ],
   "source": [
    "retina_disease_images=[]\n",
    "files=glob.glob(\"/home/dashan/Desktop/Major_project/retina_dataset/dataset/3_retina_disease/*.*\")\n",
    "for myFile in files:\n",
    "    image=cv2.imread(myFile)\n",
    "    retina_disease_images.append(image)\n",
    "print(len(retina_disease_images))"
   ]
  },
  {
   "cell_type": "code",
   "execution_count": null,
   "metadata": {},
   "outputs": [],
   "source": [
    "for img in normal_images:\n",
    "    data=img_to_array(img)\n",
    "    datagen = ImageDataGenerator(brightness_range=[0.2,1.0])\n",
    "    # prepare iterator\n",
    "    samples = expand_dims(data, 0)\n",
    "    it = datagen.flow(samples, batch_size=1)"
   ]
  },
  {
   "cell_type": "code",
   "execution_count": null,
   "metadata": {},
   "outputs": [],
   "source": []
  }
 ],
 "metadata": {
  "kernelspec": {
   "display_name": "Python 3",
   "language": "python",
   "name": "python3"
  },
  "language_info": {
   "codemirror_mode": {
    "name": "ipython",
    "version": 3
   },
   "file_extension": ".py",
   "mimetype": "text/x-python",
   "name": "python",
   "nbconvert_exporter": "python",
   "pygments_lexer": "ipython3",
   "version": "3.7.4"
  }
 },
 "nbformat": 4,
 "nbformat_minor": 2
}
